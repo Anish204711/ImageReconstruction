{
 "cells": [
  {
   "cell_type": "code",
   "execution_count": null,
   "id": "641ccd95",
   "metadata": {},
   "outputs": [],
   "source": [
    "import cv2\n",
    "import numpy as np\n",
    "from PIL import Image, ImageFilter\n",
    "import os\n",
    "import matplotlib.pyplot as plt\n",
    "import random"
   ]
  },
  {
   "cell_type": "code",
   "execution_count": 2,
   "id": "19d267e4",
   "metadata": {},
   "outputs": [],
   "source": [
    "\n",
    "\n",
    "\n",
    "def add_damage(image, damage_type='random', severity=1):\n",
    "    if damage_type == 'random':\n",
    "        damage_mask = np.random.randint(0, 255, size=image.shape, dtype=np.uint8)\n",
    "        damaged_image = cv2.addWeighted(image, 1 - severity, damage_mask, severity, 0)\n",
    "        return damaged_image\n",
    "    else:\n",
    "        return image\n",
    "\n",
    "\n",
    "\n"
   ]
  },
  {
   "cell_type": "code",
   "execution_count": 16,
   "id": "1ebc8d57",
   "metadata": {},
   "outputs": [],
   "source": [
    "\n",
    "\n",
    "def add_damage_to_region(image, region, damage_type='random', severity=1):\n",
    "    damaged_image = image.copy()\n",
    "\n",
    "    # Create a mask for the damaged region\n",
    "    mask = np.zeros_like(image, dtype=np.uint8)\n",
    "    cv2.rectangle(mask, region[0], region[1], (255, 255, 255), thickness=cv2.FILLED)\n",
    "\n",
    "    # Add damage to the specified region\n",
    "    damaged_region = add_damage(image, damage_type, severity)\n",
    "    damaged_image = cv2.bitwise_and(damaged_image, cv2.bitwise_not(mask))\n",
    "    damaged_image = cv2.bitwise_or(damaged_image, cv2.bitwise_and(damaged_region, mask))\n",
    "\n",
    "    return damaged_image\n",
    "\n",
    "\n",
    "\n",
    "\n",
    "\n"
   ]
  },
  {
   "cell_type": "markdown",
   "id": "06d88b6b",
   "metadata": {},
   "source": [
    "# Variables"
   ]
  },
  {
   "cell_type": "code",
   "execution_count": 112,
   "id": "78d3b446",
   "metadata": {},
   "outputs": [],
   "source": [
    "image_path = 'Akhijhyal/Akhijhyal/'\n",
    "output_directory = \"Akhijhyal/Heritage_data/\"\n",
    "damage_region = ((100, 100), (900, 900))"
   ]
  },
  {
   "cell_type": "markdown",
   "id": "c67b93b0",
   "metadata": {},
   "source": [
    "# Save noisy image"
   ]
  },
  {
   "cell_type": "code",
   "execution_count": null,
   "id": "0d35bff9",
   "metadata": {},
   "outputs": [],
   "source": []
  },
  {
   "cell_type": "code",
   "execution_count": 123,
   "id": "0ccc9722",
   "metadata": {},
   "outputs": [],
   "source": [
    "\n",
    "damage_region = ((500, 500), (1900, 1900))\n",
    "def save_image(input_name, output_dir, img):\n",
    "    # Create the output directory if it doesn't exist\n",
    "    if not os.path.exists(output_dir):\n",
    "        os.makedirs(output_dir)      \n",
    "    image= cv2.cvtColor(img, cv2.COLOR_BGR2RGB)\n",
    "    image = cv2.resize(image,(512,512))\n",
    "    image = Image.fromarray(image)\n",
    "    \n",
    "        # Construct the output path\n",
    "    output_path = os.path.join(output_dir, input_name)\n",
    "\n",
    "        # Save the deformed image\n",
    "    image.save(output_path)\n",
    "\n",
    "    \n",
    "\n",
    "\n"
   ]
  },
  {
   "cell_type": "markdown",
   "id": "1643195c",
   "metadata": {},
   "source": [
    "# Creating  all Images dataset"
   ]
  },
  {
   "cell_type": "code",
   "execution_count": 135,
   "id": "90a33e68",
   "metadata": {},
   "outputs": [],
   "source": [
    "data=os.listdir(image_path)\n",
    "\n",
    "\n",
    "for img_path in data :\n",
    "    # Load the image  \n",
    "    path=os.path.join(image_path,img_path)\n",
    "    deformed_image=[]\n",
    "    original_image = cv2.imread(path)\n",
    "    deformed_image.append(add_damage(original_image))\n",
    "    for i in range (100):\n",
    "     \n",
    "        start_row,start_col,window_len,paste_start_row,paste_start_col=generate_random_number()\n",
    "        end_row=paste_start_col+window_len\n",
    "      \n",
    "        damage_region=((paste_start_row,paste_start_row),(end_row,end_row))\n",
    "        deformed_image.append(add_damage_to_region(original_image,damage_region))\n",
    "    \n",
    "    base_name = os.path.basename(img_path)\n",
    "    parts = path.split(\".\", 1)\n",
    "    image_name = parts[0]\n",
    "    i=0\n",
    "    out_dir=os.path.join(output_directory,img_path) \n",
    "    #damaged_image(img,out_dir,base_name)\n",
    "    for img in deformed_image:         \n",
    "        save_image(str(i)+'_'+base_name, out_dir, img)\n",
    "        i=i+1"
   ]
  },
  {
   "cell_type": "code",
   "execution_count": 136,
   "id": "241854df",
   "metadata": {},
   "outputs": [],
   "source": [
    "\n",
    "for img_path in data : \n",
    "    # Load the image  \n",
    "    path=os.path.join(image_path,img_path)\n",
    "    deformed_image=[]\n",
    "    original_image = cv2.imread(path)\n",
    "    \n",
    "    for i in range (100):     \n",
    "        \n",
    "        deformed_image.append(get_multiple_damage(img))\n",
    "    \n",
    "    base_name = os.path.basename(img_path)\n",
    "    parts = path.split(\".\", 1)\n",
    "    image_name = parts[0]\n",
    "    i=0\n",
    "    out_dir=os.path.join(output_directory,img_path) \n",
    "    #damaged_image(img,out_dir,base_name)\n",
    "    for img in deformed_image:         \n",
    "        save_image(str(i)+'__T'+base_name, out_dir, img)\n",
    "        i=i+1\n"
   ]
  },
  {
   "cell_type": "code",
   "execution_count": 134,
   "id": "e3b4d934",
   "metadata": {},
   "outputs": [],
   "source": [
    "def get_multiple_damage(img):\n",
    "    image = cv2.imread('2.jpg')   \n",
    "    # Select the region\n",
    "    start_row,start_col,window_len,paste_start_row,paste_start_col=generate_random_number()\n",
    "    end_row=start_row+window_len\n",
    "    end_col=start_col+window_len\n",
    "    selected_region = image[start_row:end_row, start_col:end_col]\n",
    "    img1=img\n",
    "    try:    \n",
    "        img[paste_start_row:paste_start_row + selected_region.shape[0], paste_start_col:paste_start_col + selected_region.shape[1]] = selected_region\n",
    "        return img \n",
    "    except Exception as e:\n",
    "        return img1\n",
    "    finally:\n",
    "        return img1\n",
    "   \n",
    "        \n",
    "    \n",
    "\n"
   ]
  },
  {
   "cell_type": "code",
   "execution_count": 106,
   "id": "c60ec49b",
   "metadata": {},
   "outputs": [],
   "source": [
    "\n",
    "\n",
    "def generate_random_number():\n",
    "    start_row=random.randint(2200, 3700)\n",
    "    start_col=random.randint(100, 3700)\n",
    "    window_len=random.randint(700, 1000)\n",
    "    paste_row=random.randint(400, 3000)\n",
    "    paste_col=random.randint(800, 2700)\n",
    "    return (start_row,start_col,window_len,paste_row,paste_col)\n",
    "\n"
   ]
  },
  {
   "cell_type": "code",
   "execution_count": null,
   "id": "bce13e10",
   "metadata": {},
   "outputs": [],
   "source": []
  }
 ],
 "metadata": {
  "kernelspec": {
   "display_name": "Python 3 (ipykernel)",
   "language": "python",
   "name": "python3"
  },
  "language_info": {
   "codemirror_mode": {
    "name": "ipython",
    "version": 3
   },
   "file_extension": ".py",
   "mimetype": "text/x-python",
   "name": "python",
   "nbconvert_exporter": "python",
   "pygments_lexer": "ipython3",
   "version": "3.9.12"
  }
 },
 "nbformat": 4,
 "nbformat_minor": 5
}
