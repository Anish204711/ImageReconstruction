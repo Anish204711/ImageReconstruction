{
 "cells": [
  {
   "cell_type": "code",
   "execution_count": 26,
   "id": "3102e208",
   "metadata": {},
   "outputs": [],
   "source": [
    "import numpy as np \n",
    "import pandas as pd \n",
    "import os\n",
    "import cv2 as cv\n",
    "import matplotlib.pyplot as plt\n",
    "from keras.applications import vgg16\n",
    "from keras.models import Model,load_model\n",
    "import keras\n",
    "from keras.layers import Input, Conv2D, Conv2DTranspose,AveragePooling2D, MaxPooling2D,UpSampling2D,LeakyReLU, concatenate, Dropout,BatchNormalization,Activation\n",
    "from keras.callbacks import EarlyStopping,ModelCheckpoint\n",
    "import pandas as pd\n",
    "from keras.optimizers import Adam\n",
    "from sklearn.model_selection import train_test_split\n",
    "from numpy.random import seed\n",
    "#seed(123)\n",
    "import tensorflow as tf\n"
   ]
  },
  {
   "cell_type": "code",
   "execution_count": 42,
   "id": "a35ca374",
   "metadata": {},
   "outputs": [],
   "source": [
    "input_shape=(500,500)\n",
    "vgg16=tf.keras.applications.vgg16.VGG16(\n",
    "    include_top=False,\n",
    "    input_shape=(500,500,3),\n",
    "    weights='imagenet',\n",
    "    input_tensor=None,\n",
    "\n",
    "    pooling=None,\n",
    "    classifier_activation='softmax'\n",
    ")"
   ]
  },
  {
   "cell_type": "code",
   "execution_count": 43,
   "id": "e2a88765",
   "metadata": {},
   "outputs": [],
   "source": [
    "def ModelEnhancer():\n",
    "    \n",
    "    \n",
    "    VGG16 = vgg16\n",
    "    last_layer = VGG16.output\n",
    "    \n",
    "    set_trainable = False\n",
    "    for layer in VGG16.layers:\n",
    "        if layer.name in ['block1_conv1']:\n",
    "            set_trainable = True\n",
    "        if layer.name in ['block1_pool','block2_pool','block3_pool','block4_pool','block5_pool']:\n",
    "            layer.trainable = False\n",
    "            \n",
    "    model_ = Conv2DTranspose(256,(3,3),strides=(2, 2))(last_layer)\n",
    "    model_ = LeakyReLU(0.1)(model_)\n",
    "    model_ = BatchNormalization()(model_)    \n",
    "    \n",
    "    concat_1 = concatenate([model_,VGG16.get_layer(\"block5_conv3\").output])\n",
    "    \n",
    "    model_ = Conv2D(512,(3,3),strides=(1, 1),padding='same')(concat_1)\n",
    "    model_ = LeakyReLU(0.1)(model_)\n",
    "    model_ = BatchNormalization()(model_)\n",
    "    \n",
    "    model_ = Conv2DTranspose(512,(3,3),strides=(2, 2),padding='same')(model_)\n",
    "    model_ = LeakyReLU(0.1)(model_)\n",
    "    model_ = BatchNormalization()(model_) \n",
    "    \n",
    "    concat_2 = concatenate([model_,VGG16.get_layer(\"block4_conv3\").output])\n",
    "    \n",
    "    model_ = Conv2D(512,(3,3),strides=(1, 1),padding='same')(concat_2)\n",
    "    model_ = LeakyReLU(0.1)(model_)\n",
    "    model_ = BatchNormalization()(model_)\n",
    "    \n",
    "    model_ = Conv2DTranspose(512,(3,3),strides=(2, 2))(model_)\n",
    "    model_ = LeakyReLU(0.1)(model_)\n",
    "    model_ = BatchNormalization()(model_) \n",
    "    \n",
    "    concat_3 = concatenate([model_,VGG16.get_layer(\"block3_conv3\").output])\n",
    "    \n",
    "    model_ = Conv2D(256,(3,3),strides=(1, 1),padding='same')(concat_3)\n",
    "    model_ = LeakyReLU(0.1)(model_)\n",
    "    model_ = BatchNormalization()(model_)\n",
    "    \n",
    "    model_ = Conv2DTranspose(256,(3,3),strides=(2, 2),padding='same')(model_)\n",
    "    model_ = LeakyReLU(0.1)(model_)\n",
    "    model_ = BatchNormalization()(model_) \n",
    "    \n",
    "    concat_4 = concatenate([model_,VGG16.get_layer(\"block2_conv2\").output])\n",
    "    \n",
    "    model_ = Conv2D(128,(3,3),strides=(1, 1),padding='same')(concat_4)\n",
    "    model_ = LeakyReLU(0.1)(model_)\n",
    "    model_ = BatchNormalization()(model_)\n",
    "    \n",
    "    model_ = Conv2DTranspose(128,(3,3),strides=(2, 2),padding='same')(model_)\n",
    "    model_ = LeakyReLU(0.1)(model_)\n",
    "    model_ = BatchNormalization()(model_) \n",
    "    \n",
    "    concat_5 = concatenate([model_,VGG16.get_layer(\"block1_conv2\").output])\n",
    "    \n",
    "    model_ = Conv2D(64,(3,3),strides=(1, 1),padding='same')(concat_5)\n",
    "    model_ = LeakyReLU(0.1)(model_)\n",
    "    model_ = BatchNormalization()(model_)\n",
    "    \n",
    "    '''model_ = Conv2D(32,(3,3),strides=(1, 1),padding='same')(model_)\n",
    "    model_ = LeakyReLU(0.1)(model_)\n",
    "    model_ = BatchNormalization()(model_)'''\n",
    "    \n",
    "    model_ = Conv2D(3,(3,3),strides=(1, 1),padding='same')(model_)\n",
    "    model_ = LeakyReLU(0.1)(model_)\n",
    "    model_ = BatchNormalization()(model_)\n",
    "    \n",
    "    model_ = Model(VGG16.input,model_)\n",
    "    \n",
    "    return model_"
   ]
  },
  {
   "cell_type": "code",
   "execution_count": 44,
   "id": "847f4c05",
   "metadata": {},
   "outputs": [
    {
     "name": "stdout",
     "output_type": "stream",
     "text": [
      "Model: \"model_2\"\n",
      "__________________________________________________________________________________________________\n",
      " Layer (type)                   Output Shape         Param #     Connected to                     \n",
      "==================================================================================================\n",
      " input_6 (InputLayer)           [(None, 500, 500, 3  0           []                               \n",
      "                                )]                                                                \n",
      "                                                                                                  \n",
      " block1_conv1 (Conv2D)          (None, 500, 500, 64  1792        ['input_6[0][0]']                \n",
      "                                )                                                                 \n",
      "                                                                                                  \n",
      " block1_conv2 (Conv2D)          (None, 500, 500, 64  36928       ['block1_conv1[0][0]']           \n",
      "                                )                                                                 \n",
      "                                                                                                  \n",
      " block1_pool (MaxPooling2D)     (None, 250, 250, 64  0           ['block1_conv2[0][0]']           \n",
      "                                )                                                                 \n",
      "                                                                                                  \n",
      " block2_conv1 (Conv2D)          (None, 250, 250, 12  73856       ['block1_pool[0][0]']            \n",
      "                                8)                                                                \n",
      "                                                                                                  \n",
      " block2_conv2 (Conv2D)          (None, 250, 250, 12  147584      ['block2_conv1[0][0]']           \n",
      "                                8)                                                                \n",
      "                                                                                                  \n",
      " block2_pool (MaxPooling2D)     (None, 125, 125, 12  0           ['block2_conv2[0][0]']           \n",
      "                                8)                                                                \n",
      "                                                                                                  \n",
      " block3_conv1 (Conv2D)          (None, 125, 125, 25  295168      ['block2_pool[0][0]']            \n",
      "                                6)                                                                \n",
      "                                                                                                  \n",
      " block3_conv2 (Conv2D)          (None, 125, 125, 25  590080      ['block3_conv1[0][0]']           \n",
      "                                6)                                                                \n",
      "                                                                                                  \n",
      " block3_conv3 (Conv2D)          (None, 125, 125, 25  590080      ['block3_conv2[0][0]']           \n",
      "                                6)                                                                \n",
      "                                                                                                  \n",
      " block3_pool (MaxPooling2D)     (None, 62, 62, 256)  0           ['block3_conv3[0][0]']           \n",
      "                                                                                                  \n",
      " block4_conv1 (Conv2D)          (None, 62, 62, 512)  1180160     ['block3_pool[0][0]']            \n",
      "                                                                                                  \n",
      " block4_conv2 (Conv2D)          (None, 62, 62, 512)  2359808     ['block4_conv1[0][0]']           \n",
      "                                                                                                  \n",
      " block4_conv3 (Conv2D)          (None, 62, 62, 512)  2359808     ['block4_conv2[0][0]']           \n",
      "                                                                                                  \n",
      " block4_pool (MaxPooling2D)     (None, 31, 31, 512)  0           ['block4_conv3[0][0]']           \n",
      "                                                                                                  \n",
      " block5_conv1 (Conv2D)          (None, 31, 31, 512)  2359808     ['block4_pool[0][0]']            \n",
      "                                                                                                  \n",
      " block5_conv2 (Conv2D)          (None, 31, 31, 512)  2359808     ['block5_conv1[0][0]']           \n",
      "                                                                                                  \n",
      " block5_conv3 (Conv2D)          (None, 31, 31, 512)  2359808     ['block5_conv2[0][0]']           \n",
      "                                                                                                  \n",
      " block5_pool (MaxPooling2D)     (None, 15, 15, 512)  0           ['block5_conv3[0][0]']           \n",
      "                                                                                                  \n",
      " conv2d_transpose_19 (Conv2DTra  (None, 31, 31, 256)  1179904    ['block5_pool[0][0]']            \n",
      " nspose)                                                                                          \n",
      "                                                                                                  \n",
      " leaky_re_lu_35 (LeakyReLU)     (None, 31, 31, 256)  0           ['conv2d_transpose_19[0][0]']    \n",
      "                                                                                                  \n",
      " batch_normalization_35 (BatchN  (None, 31, 31, 256)  1024       ['leaky_re_lu_35[0][0]']         \n",
      " ormalization)                                                                                    \n",
      "                                                                                                  \n",
      " concatenate_19 (Concatenate)   (None, 31, 31, 768)  0           ['batch_normalization_35[0][0]', \n",
      "                                                                  'block5_conv3[0][0]']           \n",
      "                                                                                                  \n",
      " conv2d_16 (Conv2D)             (None, 31, 31, 512)  3539456     ['concatenate_19[0][0]']         \n",
      "                                                                                                  \n",
      " leaky_re_lu_36 (LeakyReLU)     (None, 31, 31, 512)  0           ['conv2d_16[0][0]']              \n",
      "                                                                                                  \n",
      " batch_normalization_36 (BatchN  (None, 31, 31, 512)  2048       ['leaky_re_lu_36[0][0]']         \n",
      " ormalization)                                                                                    \n",
      "                                                                                                  \n",
      " conv2d_transpose_20 (Conv2DTra  (None, 62, 62, 512)  2359808    ['batch_normalization_36[0][0]'] \n",
      " nspose)                                                                                          \n",
      "                                                                                                  \n",
      " leaky_re_lu_37 (LeakyReLU)     (None, 62, 62, 512)  0           ['conv2d_transpose_20[0][0]']    \n",
      "                                                                                                  \n",
      " batch_normalization_37 (BatchN  (None, 62, 62, 512)  2048       ['leaky_re_lu_37[0][0]']         \n",
      " ormalization)                                                                                    \n",
      "                                                                                                  \n",
      " concatenate_20 (Concatenate)   (None, 62, 62, 1024  0           ['batch_normalization_37[0][0]', \n",
      "                                )                                 'block4_conv3[0][0]']           \n",
      "                                                                                                  \n",
      " conv2d_17 (Conv2D)             (None, 62, 62, 512)  4719104     ['concatenate_20[0][0]']         \n",
      "                                                                                                  \n",
      " leaky_re_lu_38 (LeakyReLU)     (None, 62, 62, 512)  0           ['conv2d_17[0][0]']              \n"
     ]
    },
    {
     "name": "stdout",
     "output_type": "stream",
     "text": [
      "                                                                                                  \n",
      " batch_normalization_38 (BatchN  (None, 62, 62, 512)  2048       ['leaky_re_lu_38[0][0]']         \n",
      " ormalization)                                                                                    \n",
      "                                                                                                  \n",
      " conv2d_transpose_21 (Conv2DTra  (None, 125, 125, 51  2359808    ['batch_normalization_38[0][0]'] \n",
      " nspose)                        2)                                                                \n",
      "                                                                                                  \n",
      " leaky_re_lu_39 (LeakyReLU)     (None, 125, 125, 51  0           ['conv2d_transpose_21[0][0]']    \n",
      "                                2)                                                                \n",
      "                                                                                                  \n",
      " batch_normalization_39 (BatchN  (None, 125, 125, 51  2048       ['leaky_re_lu_39[0][0]']         \n",
      " ormalization)                  2)                                                                \n",
      "                                                                                                  \n",
      " concatenate_21 (Concatenate)   (None, 125, 125, 76  0           ['batch_normalization_39[0][0]', \n",
      "                                8)                                'block3_conv3[0][0]']           \n",
      "                                                                                                  \n",
      " conv2d_18 (Conv2D)             (None, 125, 125, 25  1769728     ['concatenate_21[0][0]']         \n",
      "                                6)                                                                \n",
      "                                                                                                  \n",
      " leaky_re_lu_40 (LeakyReLU)     (None, 125, 125, 25  0           ['conv2d_18[0][0]']              \n",
      "                                6)                                                                \n",
      "                                                                                                  \n",
      " batch_normalization_40 (BatchN  (None, 125, 125, 25  1024       ['leaky_re_lu_40[0][0]']         \n",
      " ormalization)                  6)                                                                \n",
      "                                                                                                  \n",
      " conv2d_transpose_22 (Conv2DTra  (None, 250, 250, 25  590080     ['batch_normalization_40[0][0]'] \n",
      " nspose)                        6)                                                                \n",
      "                                                                                                  \n",
      " leaky_re_lu_41 (LeakyReLU)     (None, 250, 250, 25  0           ['conv2d_transpose_22[0][0]']    \n",
      "                                6)                                                                \n",
      "                                                                                                  \n",
      " batch_normalization_41 (BatchN  (None, 250, 250, 25  1024       ['leaky_re_lu_41[0][0]']         \n",
      " ormalization)                  6)                                                                \n",
      "                                                                                                  \n",
      " concatenate_22 (Concatenate)   (None, 250, 250, 38  0           ['batch_normalization_41[0][0]', \n",
      "                                4)                                'block2_conv2[0][0]']           \n",
      "                                                                                                  \n",
      " conv2d_19 (Conv2D)             (None, 250, 250, 12  442496      ['concatenate_22[0][0]']         \n",
      "                                8)                                                                \n",
      "                                                                                                  \n",
      " leaky_re_lu_42 (LeakyReLU)     (None, 250, 250, 12  0           ['conv2d_19[0][0]']              \n",
      "                                8)                                                                \n",
      "                                                                                                  \n",
      " batch_normalization_42 (BatchN  (None, 250, 250, 12  512        ['leaky_re_lu_42[0][0]']         \n",
      " ormalization)                  8)                                                                \n",
      "                                                                                                  \n",
      " conv2d_transpose_23 (Conv2DTra  (None, 500, 500, 12  147584     ['batch_normalization_42[0][0]'] \n",
      " nspose)                        8)                                                                \n",
      "                                                                                                  \n",
      " leaky_re_lu_43 (LeakyReLU)     (None, 500, 500, 12  0           ['conv2d_transpose_23[0][0]']    \n",
      "                                8)                                                                \n",
      "                                                                                                  \n",
      " batch_normalization_43 (BatchN  (None, 500, 500, 12  512        ['leaky_re_lu_43[0][0]']         \n",
      " ormalization)                  8)                                                                \n",
      "                                                                                                  \n",
      " concatenate_23 (Concatenate)   (None, 500, 500, 19  0           ['batch_normalization_43[0][0]', \n",
      "                                2)                                'block1_conv2[0][0]']           \n",
      "                                                                                                  \n",
      " conv2d_20 (Conv2D)             (None, 500, 500, 64  110656      ['concatenate_23[0][0]']         \n",
      "                                )                                                                 \n",
      "                                                                                                  \n",
      " leaky_re_lu_44 (LeakyReLU)     (None, 500, 500, 64  0           ['conv2d_20[0][0]']              \n",
      "                                )                                                                 \n",
      "                                                                                                  \n",
      " batch_normalization_44 (BatchN  (None, 500, 500, 64  256        ['leaky_re_lu_44[0][0]']         \n",
      " ormalization)                  )                                                                 \n",
      "                                                                                                  \n",
      " conv2d_21 (Conv2D)             (None, 500, 500, 3)  1731        ['batch_normalization_44[0][0]'] \n",
      "                                                                                                  \n",
      " leaky_re_lu_45 (LeakyReLU)     (None, 500, 500, 3)  0           ['conv2d_21[0][0]']              \n",
      "                                                                                                  \n",
      " batch_normalization_45 (BatchN  (None, 500, 500, 3)  12         ['leaky_re_lu_45[0][0]']         \n",
      " ormalization)                                                                                    \n",
      "                                                                                                  \n",
      "==================================================================================================\n",
      "Total params: 31,947,599\n",
      "Trainable params: 31,941,321\n",
      "Non-trainable params: 6,278\n",
      "__________________________________________________________________________________________________\n"
     ]
    }
   ],
   "source": [
    "Model_ = ModelEnhancer()\n",
    "Model_.summary()"
   ]
  },
  {
   "cell_type": "code",
   "execution_count": 45,
   "id": "88a656d7",
   "metadata": {},
   "outputs": [],
   "source": [
    "Model_.compile(optimizer = Adam(lr = 1e-4), loss = 'binary_crossentropy', metrics = ['accuracy'])"
   ]
  },
  {
   "cell_type": "code",
   "execution_count": 46,
   "id": "ff1d56ed",
   "metadata": {},
   "outputs": [],
   "source": [
    "checkpointer = ModelCheckpoint('model_TL_UNET.h5', verbose=1,mode='auto', monitor='loss',save_best_only=True)"
   ]
  },
  {
   "cell_type": "code",
   "execution_count": 47,
   "id": "c3e4aa89",
   "metadata": {},
   "outputs": [],
   "source": [
    "InputPath='data/'\n",
    "def ExtractData(InputPath):\n",
    "    SourceImg = sorted(os.listdir(InputPath+'images'))\n",
    "    TargetImg = sorted(os.listdir(InputPath+'masks'))\n",
    "    X_=[]\n",
    "    y_=[]\n",
    "    count=0\n",
    "    for i in range(len(SourceImg)):\n",
    "        if count<31:\n",
    "            count=count+1\n",
    "            img_1 = cv.imread(InputPath + 'images/'+SourceImg[i])\n",
    "            img_1 = cv.cvtColor(img_1, cv.COLOR_BGR2RGB)\n",
    "            img_1 = cv.resize(img_1,input_shape)\n",
    "            X_.append(img_1)\n",
    "            img_2 = cv.imread(InputPath + 'masks/'+TargetImg[i])\n",
    "            img_2 = cv.cvtColor(img_2, cv.COLOR_BGR2RGB)\n",
    "            img_2 = cv.resize(img_2,input_shape)\n",
    "            y_.append(img_2)\n",
    "    X_ = np.array(X_)\n",
    "    y_ = np.array(y_)\n",
    "    \n",
    "    return X_,y_"
   ]
  },
  {
   "cell_type": "code",
   "execution_count": 48,
   "id": "7b6a2bab",
   "metadata": {},
   "outputs": [
    {
     "name": "stdout",
     "output_type": "stream",
     "text": [
      "(31, 500, 500, 3)\n"
     ]
    }
   ],
   "source": [
    "X_,y_ = ExtractData(InputPath)\n",
    "print(y_.shape)"
   ]
  },
  {
   "cell_type": "code",
   "execution_count": null,
   "id": "287c7fbb",
   "metadata": {},
   "outputs": [],
   "source": [
    "def GenerateInputs(X,y):\n",
    "    for i in range(len(X)):\n",
    "        X_input = X[i].reshape(1,500,500,3)\n",
    "        y_input = y[i].reshape(1,500,500,3)\n",
    "        yield (X_input,y_input)\n",
    "Model_.fit_generator(GenerateInputs(X_,y_),epochs=55,verbose=1,callbacks=[checkpointer],\n",
    "                     steps_per_epoch=5,shuffle=True)"
   ]
  },
  {
   "cell_type": "code",
   "execution_count": 49,
   "id": "14e171f0",
   "metadata": {},
   "outputs": [],
   "source": [
    "TransferLearningModel = load_model('model_TL_UNET.h5')\n",
    "img_x = cv.imread(InputPath + \"images/0.png\")\n",
    "img_x = cv.cvtColor(img_x, cv.COLOR_BGR2RGB)\n",
    "img_x = cv.resize(img_x,(500,500))\n",
    "img_x = img_x.reshape(1,500,500,3)"
   ]
  },
  {
   "cell_type": "code",
   "execution_count": 50,
   "id": "17e1f1aa",
   "metadata": {},
   "outputs": [
    {
     "name": "stdout",
     "output_type": "stream",
     "text": [
      "1/1 [==============================] - 4s 4s/step\n"
     ]
    },
    {
     "name": "stderr",
     "output_type": "stream",
     "text": [
      "Clipping input data to the valid range for imshow with RGB data ([0..1] for floats or [0..255] for integers).\n"
     ]
    },
    {
     "data": {
      "text/plain": [
       "<matplotlib.image.AxesImage at 0x15fb9de8790>"
      ]
     },
     "execution_count": 50,
     "metadata": {},
     "output_type": "execute_result"
    },
    {
     "data": {
      "image/png": "[encoded data removed]",
      "text/plain": [
       "<Figure size 432x288 with 1 Axes>"
      ]
     },
     "metadata": {
      "needs_background": "light"
     },
     "output_type": "display_data"
    }
   ],
   "source": [
    "prediction = TransferLearningModel.predict(img_x)\n",
    "pred = prediction.reshape(500,500,3)\n",
    "pred_ = cv.resize(pred,(500,500))\n",
    "plt.imshow(pred_)"
   ]
  },
  {
   "cell_type": "code",
   "execution_count": null,
   "id": "d80a8261",
   "metadata": {},
   "outputs": [],
   "source": []
  }
 ],
 "metadata": {
  "kernelspec": {
   "display_name": "Python 3 (ipykernel)",
   "language": "python",
   "name": "python3"
  },
  "language_info": {
   "codemirror_mode": {
    "name": "ipython",
    "version": 3
   },
   "file_extension": ".py",
   "mimetype": "text/x-python",
   "name": "python",
   "nbconvert_exporter": "python",
   "pygments_lexer": "ipython3",
   "version": "3.9.12"
  }
 },
 "nbformat": 4,
 "nbformat_minor": 5
}
