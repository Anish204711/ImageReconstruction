{
  "nbformat": 4,
  "nbformat_minor": 0,
  "metadata": {
    "colab": {
      "provenance": [],
      "gpuType": "T4"
    },
    "kernelspec": {
      "name": "python3",
      "display_name": "Python 3"
    },
    "language_info": {
      "name": "python"
    },
    "accelerator": "GPU"
  },
  "cells": [
    {
      "cell_type": "code",
      "execution_count": null,
      "metadata": {
        "id": "eF9UUvpRaw7s"
      },
      "outputs": [],
      "source": [
        "from keras.layers import Dense,Conv2D,MaxPooling2D,UpSampling2D\n",
        "from keras import Input, Model,Sequential\n",
        "import cv2 as cv\n",
        "import os\n",
        "import numpy as np\n",
        "import matplotlib.pyplot as plt\n",
        "from tensorflow.keras.preprocessing.image import ImageDataGenerator\n",
        "import tensorflow as tf\n",
        "import pandas as pd\n",
        "from keras.callbacks import EarlyStopping,ModelCheckpoint\n",
        "import pandas as pd\n",
        "from tensorflow.keras.preprocessing.image import ImageDataGenerator, img_to_array, load_img\n",
        "from keras.models import Model,load_model\n",
        "from sklearn.model_selection import train_test_split"
      ]
    },
    {
      "cell_type": "code",
      "source": [
        "from google.colab import drive\n",
        "drive.mount('/content/drive')\n",
        "InputPath='/content/drive/MyDrive/heritage/Akhijhyal/'"
      ],
      "metadata": {
        "colab": {
          "base_uri": "https://localhost:8080/"
        },
        "id": "Jm74A1IYa4pt",
        "outputId": "5a3e9c22-1f2d-4360-f354-12392703a652"
      },
      "execution_count": null,
      "outputs": [
        {
          "output_type": "stream",
          "name": "stdout",
          "text": [
            "Mounted at /content/drive\n"
          ]
        }
      ]
    },
    {
      "cell_type": "code",
      "source": [
        "input_shape=(512,512,3)\n",
        "\n",
        "model = Sequential()\n",
        "# encoder network\n",
        "model.add(Conv2D(128, 3, activation= 'relu', padding='same', input_shape = input_shape))\n",
        "model.add(MaxPooling2D(2, padding= 'same'))\n",
        "\n",
        "model.add(Conv2D(64, 3, activation= 'relu', padding='same'))\n",
        "model.add(MaxPooling2D(2, padding= 'same'))\n",
        "\n",
        "model.add(Conv2D(32, 3, activation= 'relu', padding='same'))\n",
        "model.add(MaxPooling2D(2, padding= 'same'))\n",
        "\n",
        "model.add(Conv2D(64, 3, activation= 'relu', padding='same'))\n",
        "model.add(MaxPooling2D(2, padding= 'same'))\n",
        "\n",
        "model.add(Conv2D(32, 3, activation= 'relu', padding='same'))\n",
        "model.add(MaxPooling2D(2, padding= 'same'))\n",
        "\n",
        "#decoder network\n",
        "\n",
        "model.add(Conv2D(32, 3, activation= 'relu', padding='same'))\n",
        "model.add(UpSampling2D(2))\n",
        "\n",
        "model.add(Conv2D(64, 3, activation= 'relu', padding='same'))\n",
        "model.add(UpSampling2D(2))\n",
        "\n",
        "model.add(Conv2D(32, 3, activation= 'relu', padding='same'))\n",
        "model.add(UpSampling2D(2))\n",
        "\n",
        "model.add(Conv2D(64, 3, activation= 'relu', padding='same'))\n",
        "model.add(UpSampling2D(2))\n",
        "\n",
        "model.add(Conv2D(128, 3, activation= 'relu', padding='same'))\n",
        "model.add(UpSampling2D(2))\n",
        "\n",
        "model.add(Conv2D(3,3,activation='sigmoid', padding= 'same')) # output layer\n",
        "model.compile(optimizer= 'adam', loss = 'mse',metrics=['mae', tf.keras.metrics.RootMeanSquaredError()])\n",
        "model.summary()"
      ],
      "metadata": {
        "colab": {
          "base_uri": "https://localhost:8080/"
        },
        "id": "tkFCeN3Za7nJ",
        "outputId": "064e75a9-344a-4c95-9be5-517b0c0f3f2a"
      },
      "execution_count": null,
      "outputs": [
        {
          "output_type": "stream",
          "name": "stdout",
          "text": [
            "Model: \"sequential_9\"\n",
            "_________________________________________________________________\n",
            " Layer (type)                Output Shape              Param #   \n",
            "=================================================================\n",
            " conv2d_103 (Conv2D)         (None, 512, 512, 128)     3584      \n",
            "                                                                 \n",
            " max_pooling2d_47 (MaxPooli  (None, 256, 256, 128)     0         \n",
            " ng2D)                                                           \n",
            "                                                                 \n",
            " conv2d_104 (Conv2D)         (None, 256, 256, 64)      73792     \n",
            "                                                                 \n",
            " max_pooling2d_48 (MaxPooli  (None, 128, 128, 64)      0         \n",
            " ng2D)                                                           \n",
            "                                                                 \n",
            " conv2d_105 (Conv2D)         (None, 128, 128, 32)      18464     \n",
            "                                                                 \n",
            " max_pooling2d_49 (MaxPooli  (None, 64, 64, 32)        0         \n",
            " ng2D)                                                           \n",
            "                                                                 \n",
            " conv2d_106 (Conv2D)         (None, 64, 64, 64)        18496     \n",
            "                                                                 \n",
            " max_pooling2d_50 (MaxPooli  (None, 32, 32, 64)        0         \n",
            " ng2D)                                                           \n",
            "                                                                 \n",
            " conv2d_107 (Conv2D)         (None, 32, 32, 32)        18464     \n",
            "                                                                 \n",
            " max_pooling2d_51 (MaxPooli  (None, 16, 16, 32)        0         \n",
            " ng2D)                                                           \n",
            "                                                                 \n",
            " conv2d_108 (Conv2D)         (None, 16, 16, 32)        9248      \n",
            "                                                                 \n",
            " up_sampling2d_47 (UpSampli  (None, 32, 32, 32)        0         \n",
            " ng2D)                                                           \n",
            "                                                                 \n",
            " conv2d_109 (Conv2D)         (None, 32, 32, 64)        18496     \n",
            "                                                                 \n",
            " up_sampling2d_48 (UpSampli  (None, 64, 64, 64)        0         \n",
            " ng2D)                                                           \n",
            "                                                                 \n",
            " conv2d_110 (Conv2D)         (None, 64, 64, 32)        18464     \n",
            "                                                                 \n",
            " up_sampling2d_49 (UpSampli  (None, 128, 128, 32)      0         \n",
            " ng2D)                                                           \n",
            "                                                                 \n",
            " conv2d_111 (Conv2D)         (None, 128, 128, 64)      18496     \n",
            "                                                                 \n",
            " up_sampling2d_50 (UpSampli  (None, 256, 256, 64)      0         \n",
            " ng2D)                                                           \n",
            "                                                                 \n",
            " conv2d_112 (Conv2D)         (None, 256, 256, 128)     73856     \n",
            "                                                                 \n",
            " up_sampling2d_51 (UpSampli  (None, 512, 512, 128)     0         \n",
            " ng2D)                                                           \n",
            "                                                                 \n",
            " conv2d_113 (Conv2D)         (None, 512, 512, 3)       3459      \n",
            "                                                                 \n",
            "=================================================================\n",
            "Total params: 274819 (1.05 MB)\n",
            "Trainable params: 274819 (1.05 MB)\n",
            "Non-trainable params: 0 (0.00 Byte)\n",
            "_________________________________________________________________\n"
          ]
        }
      ]
    },
    {
      "cell_type": "code",
      "source": [],
      "metadata": {
        "id": "YOimGESZcAXd"
      },
      "execution_count": null,
      "outputs": []
    },
    {
      "cell_type": "code",
      "source": [
        "def ExtractDataPath(InputPath):\n",
        "    TargetImg = os.path.join(InputPath+'Akhijhyal')\n",
        "    SourceImg = os.path.join(InputPath+'Heritage_data')\n",
        "    X_=[]\n",
        "    y_=[]\n",
        "    for path_T in os.listdir(TargetImg):\n",
        "      Target_path=os.path.join(TargetImg,path_T)\n",
        "      img_2_path = Target_path\n",
        "      for path_S in os.listdir(os.path.join(SourceImg,path_T)):\n",
        "        y_.append(img_2_path)\n",
        "        source_img=os.path.join(SourceImg,path_T,path_S)\n",
        "        img_1_path = source_img\n",
        "        X_.append(img_1_path)\n",
        "\n",
        "    X_ = np.array(X_)\n",
        "    y_ = np.array(y_)\n",
        "    return X_,y_"
      ],
      "metadata": {
        "id": "BXSawg_xVEcy"
      },
      "execution_count": null,
      "outputs": []
    },
    {
      "cell_type": "code",
      "source": [
        "\n",
        "\n",
        "df = pd.DataFrame()\n",
        "X,Y=ExtractDataPath(InputPath)\n",
        "df['Traget'] = Y\n",
        "df['Source'] = X\n"
      ],
      "metadata": {
        "id": "4tWdENQtd6qz"
      },
      "execution_count": null,
      "outputs": []
    },
    {
      "cell_type": "code",
      "source": [
        "print(df)"
      ],
      "metadata": {
        "colab": {
          "base_uri": "https://localhost:8080/"
        },
        "id": "f7eVzuQR3MUG",
        "outputId": "173a28c7-88a1-499b-be7d-ff60fd279cb9"
      },
      "execution_count": null,
      "outputs": [
        {
          "output_type": "stream",
          "name": "stdout",
          "text": [
            "                                                  Traget  \\\n",
            "0      /content/drive/MyDrive/heritage/Akhijhyal/Akhi...   \n",
            "1      /content/drive/MyDrive/heritage/Akhijhyal/Akhi...   \n",
            "2      /content/drive/MyDrive/heritage/Akhijhyal/Akhi...   \n",
            "3      /content/drive/MyDrive/heritage/Akhijhyal/Akhi...   \n",
            "4      /content/drive/MyDrive/heritage/Akhijhyal/Akhi...   \n",
            "...                                                  ...   \n",
            "29361  /content/drive/MyDrive/heritage/Akhijhyal/Akhi...   \n",
            "29362  /content/drive/MyDrive/heritage/Akhijhyal/Akhi...   \n",
            "29363  /content/drive/MyDrive/heritage/Akhijhyal/Akhi...   \n",
            "29364  /content/drive/MyDrive/heritage/Akhijhyal/Akhi...   \n",
            "29365  /content/drive/MyDrive/heritage/Akhijhyal/Akhi...   \n",
            "\n",
            "                                                  Source  \n",
            "0      /content/drive/MyDrive/heritage/Akhijhyal/Heri...  \n",
            "1      /content/drive/MyDrive/heritage/Akhijhyal/Heri...  \n",
            "2      /content/drive/MyDrive/heritage/Akhijhyal/Heri...  \n",
            "3      /content/drive/MyDrive/heritage/Akhijhyal/Heri...  \n",
            "4      /content/drive/MyDrive/heritage/Akhijhyal/Heri...  \n",
            "...                                                  ...  \n",
            "29361  /content/drive/MyDrive/heritage/Akhijhyal/Heri...  \n",
            "29362  /content/drive/MyDrive/heritage/Akhijhyal/Heri...  \n",
            "29363  /content/drive/MyDrive/heritage/Akhijhyal/Heri...  \n",
            "29364  /content/drive/MyDrive/heritage/Akhijhyal/Heri...  \n",
            "29365  /content/drive/MyDrive/heritage/Akhijhyal/Heri...  \n",
            "\n",
            "[29366 rows x 2 columns]\n"
          ]
        }
      ]
    },
    {
      "cell_type": "code",
      "source": [
        "csv_file_path = InputPath+'/data.csv'\n",
        "# Save the DataFrame to a CSV file\n",
        "df.to_csv(csv_file_path, index=False,header=False)"
      ],
      "metadata": {
        "id": "1TallsAv4J4l"
      },
      "execution_count": null,
      "outputs": []
    },
    {
      "cell_type": "code",
      "source": [
        "import pandas as pd\n",
        "csv_file_path = InputPath+'/data.csv'\n",
        "df = pd.read_csv(csv_file_path)"
      ],
      "metadata": {
        "id": "LT4KLCwn9GI-"
      },
      "execution_count": null,
      "outputs": []
    },
    {
      "cell_type": "code",
      "source": [
        "\n",
        "df.columns = ['Image_Path', 'Target']\n",
        "\n"
      ],
      "metadata": {
        "id": "1MS_PiyXWIJS"
      },
      "execution_count": null,
      "outputs": []
    },
    {
      "cell_type": "code",
      "source": [
        "# Shuffle the DataFrame\n",
        "from sklearn.model_selection import train_test_split\n",
        "df_shuffled = df.sample(frac=1, random_state=42)\n",
        "\n",
        "# Split the shuffled data into training and validation sets\n",
        "# Adjust the test_size parameter to control the size of the validation set\n",
        "train_df, val_df = train_test_split(df_shuffled, test_size=0.1, random_state=42)\n",
        "\n"
      ],
      "metadata": {
        "id": "mQrjaYRRvywj"
      },
      "execution_count": null,
      "outputs": []
    },
    {
      "cell_type": "code",
      "source": [
        "\n",
        "# Set up the ImageDataGenerator\n",
        "datagen = ImageDataGenerator(rescale=1./255)\n",
        "# Define a custom generator function\n",
        "def custom_image_generator(dataframe, batch_size):\n",
        "    num_samples = len(dataframe)\n",
        "    while True:\n",
        "        # Shuffle the DataFrame for each epoch\n",
        "        dataframe = dataframe.sample(frac=1).reset_index(drop=True)\n",
        "        for offset in range(0, num_samples, batch_size):\n",
        "            batch_df = dataframe.iloc[offset:offset + batch_size]\n",
        "            batch_source_images = []\n",
        "            batch_target_images = []\n",
        "            for _, row in batch_df.iterrows():\n",
        "                source_img = load_img(row['Image_Path'], target_size=(512, 512))\n",
        "                source_img = img_to_array(source_img) / 255.0  # Normalize pixel values to [0, 1]\n",
        "                target_img = load_img(row['Target'], target_size=(512, 512))\n",
        "                target_img = img_to_array(target_img) / 255.0  # Normalize pixel values to [0, 1]\n",
        "                batch_source_images.append(source_img)\n",
        "                batch_target_images.append(target_img)\n",
        "            batch_source_images = np.array(batch_source_images)\n",
        "            batch_target_images = np.array(batch_target_images)\n",
        "            yield batch_source_images, batch_target_images\n",
        "\n",
        "# Example usage:\n",
        "batch_size = 16\n",
        "train_generator = custom_image_generator(train_df, batch_size)\n"
      ],
      "metadata": {
        "id": "Uff5hWMBc229"
      },
      "execution_count": null,
      "outputs": []
    },
    {
      "cell_type": "code",
      "source": [
        "\n",
        "checkpointer = ModelCheckpoint('model_TL_UNET.h5', verbose=1,mode='auto', monitor='loss',save_best_only=True)"
      ],
      "metadata": {
        "id": "rs0vSKBxdq9S"
      },
      "execution_count": null,
      "outputs": []
    },
    {
      "cell_type": "code",
      "source": [
        " hist=model.fit(train_generator,epochs=5,steps_per_epoch=25,callbacks=[checkpointer])"
      ],
      "metadata": {
        "colab": {
          "base_uri": "https://localhost:8080/"
        },
        "id": "JAuK0nCed8BW",
        "outputId": "f89ca925-c8f5-4c0e-cacb-b3b3eeeb7077"
      },
      "execution_count": null,
      "outputs": [
        {
          "output_type": "stream",
          "name": "stdout",
          "text": [
            "Epoch 1/10\n",
            "25/25 [==============================] - ETA: 0s - loss: 0.0505\n",
            "Epoch 1: loss did not improve from 0.04361\n",
            "25/25 [==============================] - 145s 6s/step - loss: 0.0505\n",
            "Epoch 2/10\n",
            "25/25 [==============================] - ETA: 0s - loss: 0.0475\n",
            "Epoch 2: loss did not improve from 0.04361\n",
            "25/25 [==============================] - 146s 6s/step - loss: 0.0475\n",
            "Epoch 3/10\n",
            "25/25 [==============================] - ETA: 0s - loss: 0.0466\n",
            "Epoch 3: loss did not improve from 0.04361\n",
            "25/25 [==============================] - 143s 6s/step - loss: 0.0466\n",
            "Epoch 4/10\n",
            "25/25 [==============================] - ETA: 0s - loss: 0.0453\n",
            "Epoch 4: loss did not improve from 0.04361\n",
            "25/25 [==============================] - 146s 6s/step - loss: 0.0453\n",
            "Epoch 5/10\n",
            "25/25 [==============================] - ETA: 0s - loss: 0.0457\n",
            "Epoch 5: loss did not improve from 0.04361\n",
            "25/25 [==============================] - 146s 6s/step - loss: 0.0457\n",
            "Epoch 6/10\n",
            "25/25 [==============================] - ETA: 0s - loss: 0.0449\n",
            "Epoch 6: loss did not improve from 0.04361\n",
            "25/25 [==============================] - 147s 6s/step - loss: 0.0449\n",
            "Epoch 7/10\n",
            "25/25 [==============================] - ETA: 0s - loss: 0.0455\n",
            "Epoch 7: loss did not improve from 0.04361\n",
            "25/25 [==============================] - 145s 6s/step - loss: 0.0455\n",
            "Epoch 8/10\n",
            "25/25 [==============================] - ETA: 0s - loss: 0.0432\n",
            "Epoch 8: loss improved from 0.04361 to 0.04315, saving model to model_TL_UNET.h5\n",
            "25/25 [==============================] - 145s 6s/step - loss: 0.0432\n",
            "Epoch 9/10\n"
          ]
        },
        {
          "output_type": "stream",
          "name": "stderr",
          "text": [
            "/usr/local/lib/python3.10/dist-packages/keras/src/engine/training.py:3103: UserWarning: You are saving your model as an HDF5 file via `model.save()`. This file format is considered legacy. We recommend using instead the native Keras format, e.g. `model.save('my_model.keras')`.\n",
            "  saving_api.save_model(\n"
          ]
        },
        {
          "output_type": "stream",
          "name": "stdout",
          "text": [
            "25/25 [==============================] - ETA: 0s - loss: 0.0445\n",
            "Epoch 9: loss did not improve from 0.04315\n",
            "25/25 [==============================] - 144s 6s/step - loss: 0.0445\n",
            "Epoch 10/10\n",
            "25/25 [==============================] - ETA: 0s - loss: 0.0437\n",
            "Epoch 10: loss did not improve from 0.04315\n",
            "25/25 [==============================] - 147s 6s/step - loss: 0.0437\n"
          ]
        }
      ]
    },
    {
      "cell_type": "code",
      "source": [
        "#hist=model.fit(train_generator,epochs=10,steps_per_epoch=len(df) // batch_size,callbacks=[checkpointer])"
      ],
      "metadata": {
        "id": "RPmsko4GVS-m"
      },
      "execution_count": null,
      "outputs": []
    },
    {
      "cell_type": "code",
      "source": [
        "fig = plt.figure()\n",
        "plt.plot(hist.history['loss'], color='teal', label='loss')\n",
        "plt.plot(hist.history['mae'], color='orange', label='MAE')\n",
        "plt.plot(hist.history['root_mean_squared_error'], color='red', label='RMSE')\n",
        "fig.suptitle('Loss', fontsize=20)\n",
        "plt.legend(loc=\"upper left\")\n",
        "plt.show()"
      ],
      "metadata": {
        "colab": {
          "base_uri": "https://localhost:8080/",
          "height": 658
        },
        "id": "UlnRsmtI0hh2",
        "outputId": "9a013259-7f44-4fcc-f2c2-2779bfe6f0c2"
      },
      "execution_count": null,
      "outputs": [
        {
          "output_type": "error",
          "ename": "KeyError",
          "evalue": "ignored",
          "traceback": [
            "\u001b[0;31m---------------------------------------------------------------------------\u001b[0m",
            "\u001b[0;31mKeyError\u001b[0m                                  Traceback (most recent call last)",
            "\u001b[0;32m<ipython-input-47-caba8c04e7b5>\u001b[0m in \u001b[0;36m<cell line: 4>\u001b[0;34m()\u001b[0m\n\u001b[1;32m      2\u001b[0m \u001b[0mplt\u001b[0m\u001b[0;34m.\u001b[0m\u001b[0mplot\u001b[0m\u001b[0;34m(\u001b[0m\u001b[0mhist\u001b[0m\u001b[0;34m.\u001b[0m\u001b[0mhistory\u001b[0m\u001b[0;34m[\u001b[0m\u001b[0;34m'loss'\u001b[0m\u001b[0;34m]\u001b[0m\u001b[0;34m,\u001b[0m \u001b[0mcolor\u001b[0m\u001b[0;34m=\u001b[0m\u001b[0;34m'teal'\u001b[0m\u001b[0;34m,\u001b[0m \u001b[0mlabel\u001b[0m\u001b[0;34m=\u001b[0m\u001b[0;34m'loss'\u001b[0m\u001b[0;34m)\u001b[0m\u001b[0;34m\u001b[0m\u001b[0;34m\u001b[0m\u001b[0m\n\u001b[1;32m      3\u001b[0m \u001b[0;31m#plt.plot(hist.history['mae'], color='orange', label='MAE')\u001b[0m\u001b[0;34m\u001b[0m\u001b[0;34m\u001b[0m\u001b[0m\n\u001b[0;32m----> 4\u001b[0;31m \u001b[0mplt\u001b[0m\u001b[0;34m.\u001b[0m\u001b[0mplot\u001b[0m\u001b[0;34m(\u001b[0m\u001b[0mhist\u001b[0m\u001b[0;34m.\u001b[0m\u001b[0mhistory\u001b[0m\u001b[0;34m[\u001b[0m\u001b[0;34m'root_mean_squared_error'\u001b[0m\u001b[0;34m]\u001b[0m\u001b[0;34m,\u001b[0m \u001b[0mcolor\u001b[0m\u001b[0;34m=\u001b[0m\u001b[0;34m'red'\u001b[0m\u001b[0;34m,\u001b[0m \u001b[0mlabel\u001b[0m\u001b[0;34m=\u001b[0m\u001b[0;34m'RMSE'\u001b[0m\u001b[0;34m)\u001b[0m\u001b[0;34m\u001b[0m\u001b[0;34m\u001b[0m\u001b[0m\n\u001b[0m\u001b[1;32m      5\u001b[0m \u001b[0mfig\u001b[0m\u001b[0;34m.\u001b[0m\u001b[0msuptitle\u001b[0m\u001b[0;34m(\u001b[0m\u001b[0;34m'Loss'\u001b[0m\u001b[0;34m,\u001b[0m \u001b[0mfontsize\u001b[0m\u001b[0;34m=\u001b[0m\u001b[0;36m20\u001b[0m\u001b[0;34m)\u001b[0m\u001b[0;34m\u001b[0m\u001b[0;34m\u001b[0m\u001b[0m\n\u001b[1;32m      6\u001b[0m \u001b[0mplt\u001b[0m\u001b[0;34m.\u001b[0m\u001b[0mlegend\u001b[0m\u001b[0;34m(\u001b[0m\u001b[0mloc\u001b[0m\u001b[0;34m=\u001b[0m\u001b[0;34m\"upper left\"\u001b[0m\u001b[0;34m)\u001b[0m\u001b[0;34m\u001b[0m\u001b[0;34m\u001b[0m\u001b[0m\n",
            "\u001b[0;31mKeyError\u001b[0m: 'root_mean_squared_error'"
          ]
        },
        {
          "output_type": "display_data",
          "data": {
            "text/plain": [
              "<Figure size 640x480 with 1 Axes>"
            ],
            "image/png": "[encoded data removed]"
          },
          "metadata": {}
        }
      ]
    },
    {
      "cell_type": "code",
      "source": [
        "from keras.models import Model,load_model\n",
        "TransferLearningModel = load_model('model_TL_UNET.h5')\n",
        "img_x = cv.imread(InputPath + \"/2.jpg\")\n",
        "img_x = cv.cvtColor(img_x, cv.COLOR_BGR2RGB)\n",
        "img_x = cv.resize(img_x,(512,512))\n",
        "img_x=img_x/255\n",
        "img_x = img_x.reshape(1,512,512,3)\n",
        "\n",
        "prediction = model.predict(img_x)\n",
        "pred = prediction.reshape(512,512,3)\n",
        "\n",
        "pred_ = cv.resize(pred,(512,512))\n",
        "plt.imshow((pred_ * 255).astype(np.uint8))"
      ],
      "metadata": {
        "colab": {
          "base_uri": "https://localhost:8080/",
          "height": 470
        },
        "id": "KYDAbjmOkxa1",
        "outputId": "858f6598-46f0-4c53-fe05-f77f6633fa4f"
      },
      "execution_count": null,
      "outputs": [
        {
          "output_type": "stream",
          "name": "stdout",
          "text": [
            "1/1 [==============================] - 0s 359ms/step\n"
          ]
        },
        {
          "output_type": "execute_result",
          "data": {
            "text/plain": [
              "<matplotlib.image.AxesImage at 0x7efcc910c910>"
            ]
          },
          "metadata": {},
          "execution_count": 41
        },
        {
          "output_type": "display_data",
          "data": {
            "text/plain": [
              "<Figure size 640x480 with 1 Axes>"
            ],
            "image/png": "[encoded data removed]"
          },
          "metadata": {}
        }
      ]
    }
  ]
}